{
 "cells": [
  {
   "cell_type": "markdown",
   "source": [
    "### Training data preparation\n",
    "\n",
    "- Input: \n",
    "    1. Raw training images\n",
    "    2. Instance segmentation maps from ilastik\n",
    "   \n",
    "- Applies: \n",
    "    1. Remove small objects\n",
    "    2. Fill small holes\n",
    "    3. Remove large objects\n",
    "    4. Edge smoothing\n",
    "    \n",
    "- Output:\n",
    "    1. .npz file (X = raw, instance = segmap, class = class labels) \n",
    "    "
   ],
   "metadata": {}
  },
  {
   "cell_type": "code",
   "execution_count": 1,
   "source": [
    "import numpy as np\n",
    "import skimage as sk"
   ],
   "outputs": [],
   "metadata": {}
  },
  {
   "cell_type": "code",
   "execution_count": null,
   "source": [],
   "outputs": [],
   "metadata": {}
  }
 ],
 "metadata": {
  "kernelspec": {
   "display_name": "Python 3",
   "language": "python",
   "name": "python3"
  },
  "language_info": {
   "name": "python",
   "version": "3.7.10",
   "mimetype": "text/x-python",
   "codemirror_mode": {
    "name": "ipython",
    "version": 3
   },
   "pygments_lexer": "ipython3",
   "nbconvert_exporter": "python",
   "file_extension": ".py"
  }
 },
 "nbformat": 4,
 "nbformat_minor": 5
}