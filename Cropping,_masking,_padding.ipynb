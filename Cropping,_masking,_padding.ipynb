{
  "nbformat": 4,
  "nbformat_minor": 0,
  "metadata": {
    "colab": {
      "name": "Cropping, masking, padding.ipynb",
      "provenance": [],
      "authorship_tag": "ABX9TyMfJXma2WU8uBgmSOEkJsI/",
      "include_colab_link": true
    },
    "kernelspec": {
      "name": "python3",
      "display_name": "Python 3"
    },
    "language_info": {
      "name": "python"
    }
  },
  "cells": [
    {
      "cell_type": "markdown",
      "metadata": {
        "id": "view-in-github",
        "colab_type": "text"
      },
      "source": [
        "<a href=\"https://colab.research.google.com/github/shruthibandyadka/dl_classify_drosophila_ovarioles/blob/main/Cropping%2C_masking%2C_padding.ipynb\" target=\"_parent\"><img src=\"https://colab.research.google.com/assets/colab-badge.svg\" alt=\"Open In Colab\"/></a>"
      ]
    },
    {
      "cell_type": "code",
      "metadata": {
        "colab": {
          "base_uri": "https://localhost:8080/"
        },
        "id": "OZ6LnQBJfHq-",
        "outputId": "e84fb77b-7e63-403b-8d2e-327ce80630ab"
      },
      "source": [
        "pip install deepcell"
      ],
      "execution_count": 3,
      "outputs": [
        {
          "output_type": "stream",
          "name": "stdout",
          "text": [
            "Collecting deepcell\n",
            "  Downloading DeepCell-0.10.0.tar.gz (140 kB)\n",
            "\u001b[?25l\r\u001b[K     |██▍                             | 10 kB 22.8 MB/s eta 0:00:01\r\u001b[K     |████▊                           | 20 kB 29.0 MB/s eta 0:00:01\r\u001b[K     |███████                         | 30 kB 24.0 MB/s eta 0:00:01\r\u001b[K     |█████████▍                      | 40 kB 18.9 MB/s eta 0:00:01\r\u001b[K     |███████████▊                    | 51 kB 8.1 MB/s eta 0:00:01\r\u001b[K     |██████████████                  | 61 kB 9.4 MB/s eta 0:00:01\r\u001b[K     |████████████████▍               | 71 kB 9.1 MB/s eta 0:00:01\r\u001b[K     |██████████████████▊             | 81 kB 9.3 MB/s eta 0:00:01\r\u001b[K     |█████████████████████           | 92 kB 10.2 MB/s eta 0:00:01\r\u001b[K     |███████████████████████▍        | 102 kB 8.7 MB/s eta 0:00:01\r\u001b[K     |█████████████████████████▊      | 112 kB 8.7 MB/s eta 0:00:01\r\u001b[K     |████████████████████████████    | 122 kB 8.7 MB/s eta 0:00:01\r\u001b[K     |██████████████████████████████▍ | 133 kB 8.7 MB/s eta 0:00:01\r\u001b[K     |████████████████████████████████| 140 kB 8.7 MB/s \n",
            "\u001b[?25h  Installing build dependencies ... \u001b[?25l\u001b[?25hdone\n",
            "  Getting requirements to build wheel ... \u001b[?25l\u001b[?25hdone\n",
            "    Preparing wheel metadata ... \u001b[?25l\u001b[?25hdone\n",
            "Requirement already satisfied: scikit-learn>=0.20.4 in /usr/local/lib/python3.7/dist-packages (from deepcell) (0.22.2.post1)\n",
            "Collecting tensorflow-addons~=0.13.0\n",
            "  Downloading tensorflow_addons-0.13.0-cp37-cp37m-manylinux2010_x86_64.whl (679 kB)\n",
            "\u001b[K     |████████████████████████████████| 679 kB 45.1 MB/s \n",
            "\u001b[?25hRequirement already satisfied: numpy<1.20.0,>=1.16.6 in /usr/local/lib/python3.7/dist-packages (from deepcell) (1.19.5)\n",
            "Collecting deepcell-tracking~=0.4.4\n",
            "  Downloading DeepCell_Tracking-0.4.5.tar.gz (34 kB)\n",
            "Requirement already satisfied: scikit-image>=0.14.5 in /usr/local/lib/python3.7/dist-packages (from deepcell) (0.16.2)\n",
            "Requirement already satisfied: jupyter<2,>=1.0.0 in /usr/local/lib/python3.7/dist-packages (from deepcell) (1.0.0)\n",
            "Collecting spektral~=1.0.4\n",
            "  Downloading spektral-1.0.8-py3-none-any.whl (123 kB)\n",
            "\u001b[K     |████████████████████████████████| 123 kB 52.9 MB/s \n",
            "\u001b[?25hCollecting tensorflow~=2.5.1\n",
            "  Downloading tensorflow-2.5.1-cp37-cp37m-manylinux2010_x86_64.whl (454.4 MB)\n",
            "\u001b[K     |████████████████████████████████| 454.4 MB 9.1 kB/s \n",
            "\u001b[?25hCollecting pydot<2,>=1.4.2\n",
            "  Downloading pydot-1.4.2-py2.py3-none-any.whl (21 kB)\n",
            "Requirement already satisfied: scipy<2,>=1.2.3 in /usr/local/lib/python3.7/dist-packages (from deepcell) (1.4.1)\n",
            "Collecting opencv-python-headless<5\n",
            "  Downloading opencv_python_headless-4.5.3.56-cp37-cp37m-manylinux2014_x86_64.whl (37.1 MB)\n",
            "\u001b[K     |████████████████████████████████| 37.1 MB 52 kB/s \n",
            "\u001b[?25hCollecting deepcell-toolbox~=0.10.0\n",
            "  Downloading DeepCell_Toolbox-0.10.2.tar.gz (40 kB)\n",
            "\u001b[K     |████████████████████████████████| 40 kB 5.3 MB/s \n",
            "\u001b[?25h  Installing build dependencies ... \u001b[?25l\u001b[?25hdone\n",
            "  Getting requirements to build wheel ... \u001b[?25l\u001b[?25hdone\n",
            "    Preparing wheel metadata ... \u001b[?25l\u001b[?25hdone\n",
            "Requirement already satisfied: networkx>=2.1 in /usr/local/lib/python3.7/dist-packages (from deepcell-toolbox~=0.10.0->deepcell) (2.6.3)\n",
            "Requirement already satisfied: pandas in /usr/local/lib/python3.7/dist-packages (from deepcell-toolbox~=0.10.0->deepcell) (1.1.5)\n",
            "Requirement already satisfied: tqdm in /usr/local/lib/python3.7/dist-packages (from deepcell-toolbox~=0.10.0->deepcell) (4.62.3)\n",
            "Requirement already satisfied: cython>=0.28.0 in /usr/local/lib/python3.7/dist-packages (from deepcell-toolbox~=0.10.0->deepcell) (0.29.24)\n",
            "Requirement already satisfied: pathlib in /usr/local/lib/python3.7/dist-packages (from deepcell-tracking~=0.4.4->deepcell) (1.0.1)\n",
            "Requirement already satisfied: jupyter-console in /usr/local/lib/python3.7/dist-packages (from jupyter<2,>=1.0.0->deepcell) (5.2.0)\n",
            "Requirement already satisfied: qtconsole in /usr/local/lib/python3.7/dist-packages (from jupyter<2,>=1.0.0->deepcell) (5.1.1)\n",
            "Requirement already satisfied: ipywidgets in /usr/local/lib/python3.7/dist-packages (from jupyter<2,>=1.0.0->deepcell) (7.6.5)\n",
            "Requirement already satisfied: nbconvert in /usr/local/lib/python3.7/dist-packages (from jupyter<2,>=1.0.0->deepcell) (5.6.1)\n",
            "Requirement already satisfied: notebook in /usr/local/lib/python3.7/dist-packages (from jupyter<2,>=1.0.0->deepcell) (5.3.1)\n",
            "Requirement already satisfied: ipykernel in /usr/local/lib/python3.7/dist-packages (from jupyter<2,>=1.0.0->deepcell) (4.10.1)\n",
            "Requirement already satisfied: pyparsing>=2.1.4 in /usr/local/lib/python3.7/dist-packages (from pydot<2,>=1.4.2->deepcell) (2.4.7)\n",
            "Requirement already satisfied: matplotlib!=3.0.0,>=2.0.0 in /usr/local/lib/python3.7/dist-packages (from scikit-image>=0.14.5->deepcell) (3.2.2)\n",
            "Requirement already satisfied: pillow>=4.3.0 in /usr/local/lib/python3.7/dist-packages (from scikit-image>=0.14.5->deepcell) (7.1.2)\n",
            "Requirement already satisfied: imageio>=2.3.0 in /usr/local/lib/python3.7/dist-packages (from scikit-image>=0.14.5->deepcell) (2.4.1)\n",
            "Requirement already satisfied: PyWavelets>=0.4.0 in /usr/local/lib/python3.7/dist-packages (from scikit-image>=0.14.5->deepcell) (1.1.1)\n",
            "Requirement already satisfied: python-dateutil>=2.1 in /usr/local/lib/python3.7/dist-packages (from matplotlib!=3.0.0,>=2.0.0->scikit-image>=0.14.5->deepcell) (2.8.2)\n",
            "Requirement already satisfied: cycler>=0.10 in /usr/local/lib/python3.7/dist-packages (from matplotlib!=3.0.0,>=2.0.0->scikit-image>=0.14.5->deepcell) (0.10.0)\n",
            "Requirement already satisfied: kiwisolver>=1.0.1 in /usr/local/lib/python3.7/dist-packages (from matplotlib!=3.0.0,>=2.0.0->scikit-image>=0.14.5->deepcell) (1.3.2)\n",
            "Requirement already satisfied: six in /usr/local/lib/python3.7/dist-packages (from cycler>=0.10->matplotlib!=3.0.0,>=2.0.0->scikit-image>=0.14.5->deepcell) (1.15.0)\n",
            "Requirement already satisfied: joblib>=0.11 in /usr/local/lib/python3.7/dist-packages (from scikit-learn>=0.20.4->deepcell) (1.0.1)\n",
            "Requirement already satisfied: requests in /usr/local/lib/python3.7/dist-packages (from spektral~=1.0.4->deepcell) (2.23.0)\n",
            "Requirement already satisfied: lxml in /usr/local/lib/python3.7/dist-packages (from spektral~=1.0.4->deepcell) (4.2.6)\n",
            "Requirement already satisfied: opt-einsum~=3.3.0 in /usr/local/lib/python3.7/dist-packages (from tensorflow~=2.5.1->deepcell) (3.3.0)\n",
            "Requirement already satisfied: wrapt~=1.12.1 in /usr/local/lib/python3.7/dist-packages (from tensorflow~=2.5.1->deepcell) (1.12.1)\n",
            "Requirement already satisfied: astunparse~=1.6.3 in /usr/local/lib/python3.7/dist-packages (from tensorflow~=2.5.1->deepcell) (1.6.3)\n",
            "Requirement already satisfied: keras-preprocessing~=1.1.2 in /usr/local/lib/python3.7/dist-packages (from tensorflow~=2.5.1->deepcell) (1.1.2)\n",
            "Requirement already satisfied: gast==0.4.0 in /usr/local/lib/python3.7/dist-packages (from tensorflow~=2.5.1->deepcell) (0.4.0)\n",
            "Requirement already satisfied: tensorboard~=2.5 in /usr/local/lib/python3.7/dist-packages (from tensorflow~=2.5.1->deepcell) (2.6.0)\n",
            "Requirement already satisfied: protobuf>=3.9.2 in /usr/local/lib/python3.7/dist-packages (from tensorflow~=2.5.1->deepcell) (3.17.3)\n",
            "Collecting grpcio~=1.34.0\n",
            "  Downloading grpcio-1.34.1-cp37-cp37m-manylinux2014_x86_64.whl (4.0 MB)\n",
            "\u001b[K     |████████████████████████████████| 4.0 MB 53.1 MB/s \n",
            "\u001b[?25hRequirement already satisfied: h5py~=3.1.0 in /usr/local/lib/python3.7/dist-packages (from tensorflow~=2.5.1->deepcell) (3.1.0)\n",
            "Requirement already satisfied: google-pasta~=0.2 in /usr/local/lib/python3.7/dist-packages (from tensorflow~=2.5.1->deepcell) (0.2.0)\n",
            "Requirement already satisfied: wheel~=0.35 in /usr/local/lib/python3.7/dist-packages (from tensorflow~=2.5.1->deepcell) (0.37.0)\n",
            "Requirement already satisfied: typing-extensions~=3.7.4 in /usr/local/lib/python3.7/dist-packages (from tensorflow~=2.5.1->deepcell) (3.7.4.3)\n",
            "Requirement already satisfied: termcolor~=1.1.0 in /usr/local/lib/python3.7/dist-packages (from tensorflow~=2.5.1->deepcell) (1.1.0)\n",
            "Requirement already satisfied: flatbuffers~=1.12.0 in /usr/local/lib/python3.7/dist-packages (from tensorflow~=2.5.1->deepcell) (1.12)\n",
            "Collecting keras-nightly~=2.5.0.dev\n",
            "  Downloading keras_nightly-2.5.0.dev2021032900-py2.py3-none-any.whl (1.2 MB)\n",
            "\u001b[K     |████████████████████████████████| 1.2 MB 44.8 MB/s \n",
            "\u001b[?25hCollecting tensorflow-estimator<2.6.0,>=2.5.0\n",
            "  Downloading tensorflow_estimator-2.5.0-py2.py3-none-any.whl (462 kB)\n",
            "\u001b[K     |████████████████████████████████| 462 kB 70.8 MB/s \n",
            "\u001b[?25hRequirement already satisfied: absl-py~=0.10 in /usr/local/lib/python3.7/dist-packages (from tensorflow~=2.5.1->deepcell) (0.12.0)\n",
            "Requirement already satisfied: cached-property in /usr/local/lib/python3.7/dist-packages (from h5py~=3.1.0->tensorflow~=2.5.1->deepcell) (1.5.2)\n",
            "Requirement already satisfied: markdown>=2.6.8 in /usr/local/lib/python3.7/dist-packages (from tensorboard~=2.5->tensorflow~=2.5.1->deepcell) (3.3.4)\n",
            "Requirement already satisfied: setuptools>=41.0.0 in /usr/local/lib/python3.7/dist-packages (from tensorboard~=2.5->tensorflow~=2.5.1->deepcell) (57.4.0)\n",
            "Requirement already satisfied: tensorboard-data-server<0.7.0,>=0.6.0 in /usr/local/lib/python3.7/dist-packages (from tensorboard~=2.5->tensorflow~=2.5.1->deepcell) (0.6.1)\n",
            "Requirement already satisfied: werkzeug>=0.11.15 in /usr/local/lib/python3.7/dist-packages (from tensorboard~=2.5->tensorflow~=2.5.1->deepcell) (1.0.1)\n",
            "Requirement already satisfied: google-auth-oauthlib<0.5,>=0.4.1 in /usr/local/lib/python3.7/dist-packages (from tensorboard~=2.5->tensorflow~=2.5.1->deepcell) (0.4.6)\n",
            "Requirement already satisfied: google-auth<2,>=1.6.3 in /usr/local/lib/python3.7/dist-packages (from tensorboard~=2.5->tensorflow~=2.5.1->deepcell) (1.35.0)\n",
            "Requirement already satisfied: tensorboard-plugin-wit>=1.6.0 in /usr/local/lib/python3.7/dist-packages (from tensorboard~=2.5->tensorflow~=2.5.1->deepcell) (1.8.0)\n",
            "Requirement already satisfied: cachetools<5.0,>=2.0.0 in /usr/local/lib/python3.7/dist-packages (from google-auth<2,>=1.6.3->tensorboard~=2.5->tensorflow~=2.5.1->deepcell) (4.2.2)\n",
            "Requirement already satisfied: pyasn1-modules>=0.2.1 in /usr/local/lib/python3.7/dist-packages (from google-auth<2,>=1.6.3->tensorboard~=2.5->tensorflow~=2.5.1->deepcell) (0.2.8)\n",
            "Requirement already satisfied: rsa<5,>=3.1.4 in /usr/local/lib/python3.7/dist-packages (from google-auth<2,>=1.6.3->tensorboard~=2.5->tensorflow~=2.5.1->deepcell) (4.7.2)\n",
            "Requirement already satisfied: requests-oauthlib>=0.7.0 in /usr/local/lib/python3.7/dist-packages (from google-auth-oauthlib<0.5,>=0.4.1->tensorboard~=2.5->tensorflow~=2.5.1->deepcell) (1.3.0)\n",
            "Requirement already satisfied: importlib-metadata in /usr/local/lib/python3.7/dist-packages (from markdown>=2.6.8->tensorboard~=2.5->tensorflow~=2.5.1->deepcell) (4.8.1)\n",
            "Requirement already satisfied: pyasn1<0.5.0,>=0.4.6 in /usr/local/lib/python3.7/dist-packages (from pyasn1-modules>=0.2.1->google-auth<2,>=1.6.3->tensorboard~=2.5->tensorflow~=2.5.1->deepcell) (0.4.8)\n",
            "Requirement already satisfied: chardet<4,>=3.0.2 in /usr/local/lib/python3.7/dist-packages (from requests->spektral~=1.0.4->deepcell) (3.0.4)\n",
            "Requirement already satisfied: idna<3,>=2.5 in /usr/local/lib/python3.7/dist-packages (from requests->spektral~=1.0.4->deepcell) (2.10)\n",
            "Requirement already satisfied: urllib3!=1.25.0,!=1.25.1,<1.26,>=1.21.1 in /usr/local/lib/python3.7/dist-packages (from requests->spektral~=1.0.4->deepcell) (1.24.3)\n",
            "Requirement already satisfied: certifi>=2017.4.17 in /usr/local/lib/python3.7/dist-packages (from requests->spektral~=1.0.4->deepcell) (2021.5.30)\n",
            "Requirement already satisfied: oauthlib>=3.0.0 in /usr/local/lib/python3.7/dist-packages (from requests-oauthlib>=0.7.0->google-auth-oauthlib<0.5,>=0.4.1->tensorboard~=2.5->tensorflow~=2.5.1->deepcell) (3.1.1)\n",
            "Requirement already satisfied: typeguard>=2.7 in /usr/local/lib/python3.7/dist-packages (from tensorflow-addons~=0.13.0->deepcell) (2.7.1)\n",
            "Requirement already satisfied: zipp>=0.5 in /usr/local/lib/python3.7/dist-packages (from importlib-metadata->markdown>=2.6.8->tensorboard~=2.5->tensorflow~=2.5.1->deepcell) (3.5.0)\n",
            "Requirement already satisfied: ipython>=4.0.0 in /usr/local/lib/python3.7/dist-packages (from ipykernel->jupyter<2,>=1.0.0->deepcell) (5.5.0)\n",
            "Requirement already satisfied: jupyter-client in /usr/local/lib/python3.7/dist-packages (from ipykernel->jupyter<2,>=1.0.0->deepcell) (5.3.5)\n",
            "Requirement already satisfied: traitlets>=4.1.0 in /usr/local/lib/python3.7/dist-packages (from ipykernel->jupyter<2,>=1.0.0->deepcell) (5.1.0)\n",
            "Requirement already satisfied: tornado>=4.0 in /usr/local/lib/python3.7/dist-packages (from ipykernel->jupyter<2,>=1.0.0->deepcell) (5.1.1)\n",
            "Requirement already satisfied: decorator in /usr/local/lib/python3.7/dist-packages (from ipython>=4.0.0->ipykernel->jupyter<2,>=1.0.0->deepcell) (4.4.2)\n",
            "Requirement already satisfied: pexpect in /usr/local/lib/python3.7/dist-packages (from ipython>=4.0.0->ipykernel->jupyter<2,>=1.0.0->deepcell) (4.8.0)\n",
            "Requirement already satisfied: prompt-toolkit<2.0.0,>=1.0.4 in /usr/local/lib/python3.7/dist-packages (from ipython>=4.0.0->ipykernel->jupyter<2,>=1.0.0->deepcell) (1.0.18)\n",
            "Requirement already satisfied: simplegeneric>0.8 in /usr/local/lib/python3.7/dist-packages (from ipython>=4.0.0->ipykernel->jupyter<2,>=1.0.0->deepcell) (0.8.1)\n",
            "Requirement already satisfied: pickleshare in /usr/local/lib/python3.7/dist-packages (from ipython>=4.0.0->ipykernel->jupyter<2,>=1.0.0->deepcell) (0.7.5)\n",
            "Requirement already satisfied: pygments in /usr/local/lib/python3.7/dist-packages (from ipython>=4.0.0->ipykernel->jupyter<2,>=1.0.0->deepcell) (2.6.1)\n",
            "Requirement already satisfied: wcwidth in /usr/local/lib/python3.7/dist-packages (from prompt-toolkit<2.0.0,>=1.0.4->ipython>=4.0.0->ipykernel->jupyter<2,>=1.0.0->deepcell) (0.2.5)\n",
            "Requirement already satisfied: jupyterlab-widgets>=1.0.0 in /usr/local/lib/python3.7/dist-packages (from ipywidgets->jupyter<2,>=1.0.0->deepcell) (1.0.2)\n",
            "Requirement already satisfied: widgetsnbextension~=3.5.0 in /usr/local/lib/python3.7/dist-packages (from ipywidgets->jupyter<2,>=1.0.0->deepcell) (3.5.1)\n",
            "Requirement already satisfied: nbformat>=4.2.0 in /usr/local/lib/python3.7/dist-packages (from ipywidgets->jupyter<2,>=1.0.0->deepcell) (5.1.3)\n",
            "Requirement already satisfied: ipython-genutils~=0.2.0 in /usr/local/lib/python3.7/dist-packages (from ipywidgets->jupyter<2,>=1.0.0->deepcell) (0.2.0)\n",
            "Requirement already satisfied: jupyter-core in /usr/local/lib/python3.7/dist-packages (from nbformat>=4.2.0->ipywidgets->jupyter<2,>=1.0.0->deepcell) (4.8.1)\n",
            "Requirement already satisfied: jsonschema!=2.5.0,>=2.4 in /usr/local/lib/python3.7/dist-packages (from nbformat>=4.2.0->ipywidgets->jupyter<2,>=1.0.0->deepcell) (2.6.0)\n",
            "Requirement already satisfied: terminado>=0.8.1 in /usr/local/lib/python3.7/dist-packages (from notebook->jupyter<2,>=1.0.0->deepcell) (0.12.1)\n",
            "Requirement already satisfied: Send2Trash in /usr/local/lib/python3.7/dist-packages (from notebook->jupyter<2,>=1.0.0->deepcell) (1.8.0)\n",
            "Requirement already satisfied: jinja2 in /usr/local/lib/python3.7/dist-packages (from notebook->jupyter<2,>=1.0.0->deepcell) (2.11.3)\n",
            "Requirement already satisfied: pyzmq>=13 in /usr/local/lib/python3.7/dist-packages (from jupyter-client->ipykernel->jupyter<2,>=1.0.0->deepcell) (22.3.0)\n",
            "Requirement already satisfied: ptyprocess in /usr/local/lib/python3.7/dist-packages (from terminado>=0.8.1->notebook->jupyter<2,>=1.0.0->deepcell) (0.7.0)\n",
            "Requirement already satisfied: MarkupSafe>=0.23 in /usr/local/lib/python3.7/dist-packages (from jinja2->notebook->jupyter<2,>=1.0.0->deepcell) (2.0.1)\n",
            "Requirement already satisfied: defusedxml in /usr/local/lib/python3.7/dist-packages (from nbconvert->jupyter<2,>=1.0.0->deepcell) (0.7.1)\n",
            "Requirement already satisfied: testpath in /usr/local/lib/python3.7/dist-packages (from nbconvert->jupyter<2,>=1.0.0->deepcell) (0.5.0)\n",
            "Requirement already satisfied: bleach in /usr/local/lib/python3.7/dist-packages (from nbconvert->jupyter<2,>=1.0.0->deepcell) (4.1.0)\n",
            "Requirement already satisfied: entrypoints>=0.2.2 in /usr/local/lib/python3.7/dist-packages (from nbconvert->jupyter<2,>=1.0.0->deepcell) (0.3)\n",
            "Requirement already satisfied: mistune<2,>=0.8.1 in /usr/local/lib/python3.7/dist-packages (from nbconvert->jupyter<2,>=1.0.0->deepcell) (0.8.4)\n",
            "Requirement already satisfied: pandocfilters>=1.4.1 in /usr/local/lib/python3.7/dist-packages (from nbconvert->jupyter<2,>=1.0.0->deepcell) (1.5.0)\n",
            "Requirement already satisfied: packaging in /usr/local/lib/python3.7/dist-packages (from bleach->nbconvert->jupyter<2,>=1.0.0->deepcell) (21.0)\n",
            "Requirement already satisfied: webencodings in /usr/local/lib/python3.7/dist-packages (from bleach->nbconvert->jupyter<2,>=1.0.0->deepcell) (0.5.1)\n",
            "Requirement already satisfied: pytz>=2017.2 in /usr/local/lib/python3.7/dist-packages (from pandas->deepcell-toolbox~=0.10.0->deepcell) (2018.9)\n",
            "Requirement already satisfied: qtpy in /usr/local/lib/python3.7/dist-packages (from qtconsole->jupyter<2,>=1.0.0->deepcell) (1.11.2)\n",
            "Building wheels for collected packages: deepcell, deepcell-toolbox, deepcell-tracking\n",
            "  Building wheel for deepcell (PEP 517) ... \u001b[?25l\u001b[?25hdone\n",
            "  Created wheel for deepcell: filename=DeepCell-0.10.0-py3-none-any.whl size=234299 sha256=e1685f11a00bb6ef97aeec4258d17c687548f1af583c26214bf115c83afc3922\n",
            "  Stored in directory: /root/.cache/pip/wheels/4a/5d/20/dafefcafccb5dfb714fcc97802389a19355688973f854ea050\n",
            "  Building wheel for deepcell-toolbox (PEP 517) ... \u001b[?25l\u001b[?25hdone\n",
            "  Created wheel for deepcell-toolbox: filename=DeepCell_Toolbox-0.10.2-cp37-cp37m-linux_x86_64.whl size=175144 sha256=a1c96d54ae3bf88e152aa46fb583e8951dcabfdfb5052fd2a3a49fddaa44816a\n",
            "  Stored in directory: /root/.cache/pip/wheels/6f/64/6e/5cce8f2cddddfa98ad05a6c9694dd0f8357146ddecd01ad774\n",
            "  Building wheel for deepcell-tracking (setup.py) ... \u001b[?25l\u001b[?25hdone\n",
            "  Created wheel for deepcell-tracking: filename=DeepCell_Tracking-0.4.5-py3-none-any.whl size=42407 sha256=fe46a34975ec325d7315887de0aca77e05e59eb15fe16d4c5243e08b1b2a08e5\n",
            "  Stored in directory: /root/.cache/pip/wheels/35/de/17/d03bbdd915ecc15b216ce84c648b7abe6c29b930b799983a2e\n",
            "Successfully built deepcell deepcell-toolbox deepcell-tracking\n",
            "Installing collected packages: grpcio, tensorflow-estimator, opencv-python-headless, keras-nightly, tensorflow, deepcell-toolbox, tensorflow-addons, spektral, pydot, deepcell-tracking, deepcell\n",
            "  Attempting uninstall: grpcio\n",
            "    Found existing installation: grpcio 1.40.0\n",
            "    Uninstalling grpcio-1.40.0:\n",
            "      Successfully uninstalled grpcio-1.40.0\n",
            "  Attempting uninstall: tensorflow-estimator\n",
            "    Found existing installation: tensorflow-estimator 2.6.0\n",
            "    Uninstalling tensorflow-estimator-2.6.0:\n",
            "      Successfully uninstalled tensorflow-estimator-2.6.0\n",
            "  Attempting uninstall: tensorflow\n",
            "    Found existing installation: tensorflow 2.6.0\n",
            "    Uninstalling tensorflow-2.6.0:\n",
            "      Successfully uninstalled tensorflow-2.6.0\n",
            "  Attempting uninstall: pydot\n",
            "    Found existing installation: pydot 1.3.0\n",
            "    Uninstalling pydot-1.3.0:\n",
            "      Successfully uninstalled pydot-1.3.0\n",
            "Successfully installed deepcell-0.10.0 deepcell-toolbox-0.10.2 deepcell-tracking-0.4.5 grpcio-1.34.1 keras-nightly-2.5.0.dev2021032900 opencv-python-headless-4.5.3.56 pydot-1.4.2 spektral-1.0.8 tensorflow-2.5.1 tensorflow-addons-0.13.0 tensorflow-estimator-2.5.0\n"
          ]
        }
      ]
    },
    {
      "cell_type": "code",
      "metadata": {
        "id": "SfyXpbLvfNKH"
      },
      "source": [
        "import matplotlib.pyplot as plt\n",
        "import numpy as np\n",
        "import skimage.io as io \n",
        "from skimage.measure import label,regionprops, regionprops_table\n"
      ],
      "execution_count": 4,
      "outputs": []
    },
    {
      "cell_type": "code",
      "metadata": {
        "colab": {
          "base_uri": "https://localhost:8080/"
        },
        "id": "STZWtQmjgOmr",
        "outputId": "4f2d07bb-70e3-4677-fc33-681611b6d00b"
      },
      "source": [
        "from deepcell.datasets.tracked import hela_s3_bench\n",
        "\n",
        "(X_train, y_train), (X_test, y_test) = hela_s3_bench.load_tracked_data(seed=0)\n",
        "\n",
        "print('X_train shape:', X_train.shape)\n",
        "print('X_test shape:', X_test.shape)"
      ],
      "execution_count": 5,
      "outputs": [
        {
          "output_type": "stream",
          "name": "stderr",
          "text": [
            "/usr/local/lib/python3.7/dist-packages/tensorflow/python/keras/optimizer_v2/optimizer_v2.py:375: UserWarning: The `lr` argument is deprecated, use `learning_rate` instead.\n",
            "  \"The `lr` argument is deprecated, use `learning_rate` instead.\")\n"
          ]
        },
        {
          "output_type": "stream",
          "name": "stdout",
          "text": [
            "Downloading data from https://deepcell-data.s3.amazonaws.com/tracking_manuscript_benchmarking/GT_tracks/HeLa_S3_benchmarks.trks\n",
            "637083648/637081600 [==============================] - 49s 0us/step\n",
            "X_train shape: (14, 40, 216, 256, 1)\n",
            "X_test shape: (4, 40, 216, 256, 1)\n"
          ]
        }
      ]
    },
    {
      "cell_type": "code",
      "metadata": {
        "id": "MyHSFtDGfzyt"
      },
      "source": [
        "x = X_train[1,8]\n",
        "y= y_train[1,8]\n",
        "y = y.astype('int')\n",
        "roi = regionprops(y[...,0])\n"
      ],
      "execution_count": 6,
      "outputs": []
    },
    {
      "cell_type": "code",
      "metadata": {
        "id": "S24R24pm-Po_"
      },
      "source": [
        "x = X_train[1,10]\n",
        "y = y_train[1,10]"
      ],
      "execution_count": 7,
      "outputs": []
    },
    {
      "cell_type": "code",
      "metadata": {
        "id": "NRnjtis58ht3"
      },
      "source": [
        "def crop (x,y):\n",
        "    y = y.astype('int')\n",
        "    bounding_box = regionprops(y[...,0])\n",
        "    num = len(bounding_box)\n",
        "    crop_x = []\n",
        "    crop_x_mask = []\n",
        "    crop_y = []\n",
        "    for i in range(num):\n",
        "        #fig,ax = plt.subplots(1,2)\n",
        "        coords = bounding_box[i].bbox\n",
        "        #print(coords)\n",
        "        cropped_x = x[coords[0]:coords[2],coords[1]:coords[3]]\n",
        "        crop_x.append(cropped_x)\n",
        "        cropped_y = y[coords[0]:coords[2],coords[1]:coords[3]]\n",
        "        crop_y.append(cropped_y)\n",
        "        #ax[0].imshow(cropped_x[...,0])\n",
        "        #print(cropped_x.shape, cropped_y.shape)\n",
        "        #print(bounding_box[i].label)\n",
        "        mask_im= (cropped_y != bounding_box[i].label)\n",
        "        crop_x_mask.append(mask_im)\n",
        "        #ax[1].imshow(mask_im[...,0])\n",
        "        #print(mask_im.shape)\n",
        "        cropped_x[mask_im] = 0\n",
        "    return crop_x, crop_y, crop_x_mask"
      ],
      "execution_count": 209,
      "outputs": []
    },
    {
      "cell_type": "code",
      "metadata": {
        "id": "YVzfjMSEO0SA"
      },
      "source": [
        "out_x, out_y, mask_x = crop(X_train[1,10], y_train[1,10])\n"
      ],
      "execution_count": 210,
      "outputs": []
    },
    {
      "cell_type": "code",
      "metadata": {
        "id": "ImeQhJ8Ab5E5"
      },
      "source": [
        "a = len(out_x)\n",
        "x_dim = []\n",
        "y_dim = []\n",
        "for i in range(a):\n",
        "    listdim = out_x[i].shape\n",
        "    x_dim.append(listdim[0])\n",
        "    y_dim.append(listdim[1])\n",
        "max_x = max(x_dim)\n",
        "max_y = max(y_dim)"
      ],
      "execution_count": 211,
      "outputs": []
    },
    {
      "cell_type": "code",
      "metadata": {
        "id": "S_aAAi_Gx1sN"
      },
      "source": [
        "def padding (out_x):\n",
        "    a = len(out_x)\n",
        "    padded_x = []\n",
        "    for i in range(a):\n",
        "        shape_array = out_x[i].shape\n",
        "        pad_x = shape_array[0]\n",
        "        pad_y = shape_array[1]\n",
        "        x_pad_dim = (max_x - pad_x)//2 \n",
        "        rem_x = (max_x - pad_x)%2\n",
        "        y_pad_dim = (max_y - pad_y)//2 \n",
        "        rem_y = (max_y - pad_y)%2\n",
        "        padded_array = np.pad(np.squeeze(out_x[i]), ((x_pad_dim, (x_pad_dim+rem_x)), (y_pad_dim, (y_pad_dim+rem_y))))\n",
        "        padded_x.append(padded_array)\n",
        "    return padded_x"
      ],
      "execution_count": 212,
      "outputs": []
    },
    {
      "cell_type": "code",
      "metadata": {
        "id": "fg3FtavR3pI8"
      },
      "source": [
        "padded_x_images = padding(out_x)"
      ],
      "execution_count": 204,
      "outputs": []
    },
    {
      "cell_type": "code",
      "metadata": {
        "id": "pfHFhs7x9D00"
      },
      "source": [
        "stacked_padded_masked_x_images = np.stack(padded_x_images)"
      ],
      "execution_count": 206,
      "outputs": []
    }
  ]
}